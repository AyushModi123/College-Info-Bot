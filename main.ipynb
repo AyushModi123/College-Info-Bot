{
  "nbformat": 4,
  "nbformat_minor": 0,
  "metadata": {
    "colab": {
      "provenance": []
    },
    "kernelspec": {
      "name": "python3",
      "display_name": "Python 3"
    },
    "language_info": {
      "name": "python"
    }
  },
  "cells": [
    {
      "cell_type": "code",
      "source": [
        "!pip install spacy\n",
        "!spacy download en_core_web_sm\n",
        "!pip install tensorflow\n",
        "!pip install nltk\n",
        "!pip install transformers\n",
        "!pip install keras-tcn\n",
        "from IPython.display import clear_output\n",
        "clear_output()"
      ],
      "metadata": {
        "id": "jxoVa0QUjf6M"
      },
      "execution_count": null,
      "outputs": []
    },
    {
      "cell_type": "code",
      "execution_count": null,
      "metadata": {
        "id": "kAQ9kzrFhqne",
        "colab": {
          "base_uri": "https://localhost:8080/"
        },
        "outputId": "9c93fa68-bee8-4a15-a642-4358d3b175c6"
      },
      "outputs": [
        {
          "output_type": "stream",
          "name": "stderr",
          "text": [
            "[nltk_data] Downloading package stopwords to /root/nltk_data...\n",
            "[nltk_data]   Package stopwords is already up-to-date!\n"
          ]
        }
      ],
      "source": [
        "import spacy\n",
        "import pandas as pd\n",
        "import numpy as np\n",
        "import nltk\n",
        "from nltk.corpus import stopwords\n",
        "from sklearn.utils import resample\n",
        "nltk.download('stopwords')\n",
        "nlp = spacy.load(\"en_core_web_sm\")\n",
        "from transformers import AutoTokenizer\n",
        "tokenizer = AutoTokenizer.from_pretrained('bert-base-cased')"
      ]
    },
    {
      "cell_type": "code",
      "source": [
        "df = pd.read_excel('train_data.xlsx')\n",
        "df.head()"
      ],
      "metadata": {
        "colab": {
          "base_uri": "https://localhost:8080/",
          "height": 206
        },
        "id": "Yv0Gp_r-i8zK",
        "outputId": "2389aa71-a956-4a9e-d97d-97f48822070b"
      },
      "execution_count": null,
      "outputs": [
        {
          "output_type": "execute_result",
          "data": {
            "text/plain": [
              "              text    intent\n",
              "0               Hi  greeting\n",
              "1      How are you  greeting\n",
              "2    Good morning   greeting\n",
              "3  Good afternoon   greeting\n",
              "4     Good evening  greeting"
            ],
            "text/html": [
              "\n",
              "  <div id=\"df-dbc0cda3-0767-4842-8852-2a7ee0195da4\">\n",
              "    <div class=\"colab-df-container\">\n",
              "      <div>\n",
              "<style scoped>\n",
              "    .dataframe tbody tr th:only-of-type {\n",
              "        vertical-align: middle;\n",
              "    }\n",
              "\n",
              "    .dataframe tbody tr th {\n",
              "        vertical-align: top;\n",
              "    }\n",
              "\n",
              "    .dataframe thead th {\n",
              "        text-align: right;\n",
              "    }\n",
              "</style>\n",
              "<table border=\"1\" class=\"dataframe\">\n",
              "  <thead>\n",
              "    <tr style=\"text-align: right;\">\n",
              "      <th></th>\n",
              "      <th>text</th>\n",
              "      <th>intent</th>\n",
              "    </tr>\n",
              "  </thead>\n",
              "  <tbody>\n",
              "    <tr>\n",
              "      <th>0</th>\n",
              "      <td>Hi</td>\n",
              "      <td>greeting</td>\n",
              "    </tr>\n",
              "    <tr>\n",
              "      <th>1</th>\n",
              "      <td>How are you</td>\n",
              "      <td>greeting</td>\n",
              "    </tr>\n",
              "    <tr>\n",
              "      <th>2</th>\n",
              "      <td>Good morning</td>\n",
              "      <td>greeting</td>\n",
              "    </tr>\n",
              "    <tr>\n",
              "      <th>3</th>\n",
              "      <td>Good afternoon</td>\n",
              "      <td>greeting</td>\n",
              "    </tr>\n",
              "    <tr>\n",
              "      <th>4</th>\n",
              "      <td>Good evening</td>\n",
              "      <td>greeting</td>\n",
              "    </tr>\n",
              "  </tbody>\n",
              "</table>\n",
              "</div>\n",
              "      <button class=\"colab-df-convert\" onclick=\"convertToInteractive('df-dbc0cda3-0767-4842-8852-2a7ee0195da4')\"\n",
              "              title=\"Convert this dataframe to an interactive table.\"\n",
              "              style=\"display:none;\">\n",
              "        \n",
              "  <svg xmlns=\"http://www.w3.org/2000/svg\" height=\"24px\"viewBox=\"0 0 24 24\"\n",
              "       width=\"24px\">\n",
              "    <path d=\"M0 0h24v24H0V0z\" fill=\"none\"/>\n",
              "    <path d=\"M18.56 5.44l.94 2.06.94-2.06 2.06-.94-2.06-.94-.94-2.06-.94 2.06-2.06.94zm-11 1L8.5 8.5l.94-2.06 2.06-.94-2.06-.94L8.5 2.5l-.94 2.06-2.06.94zm10 10l.94 2.06.94-2.06 2.06-.94-2.06-.94-.94-2.06-.94 2.06-2.06.94z\"/><path d=\"M17.41 7.96l-1.37-1.37c-.4-.4-.92-.59-1.43-.59-.52 0-1.04.2-1.43.59L10.3 9.45l-7.72 7.72c-.78.78-.78 2.05 0 2.83L4 21.41c.39.39.9.59 1.41.59.51 0 1.02-.2 1.41-.59l7.78-7.78 2.81-2.81c.8-.78.8-2.07 0-2.86zM5.41 20L4 18.59l7.72-7.72 1.47 1.35L5.41 20z\"/>\n",
              "  </svg>\n",
              "      </button>\n",
              "      \n",
              "  <style>\n",
              "    .colab-df-container {\n",
              "      display:flex;\n",
              "      flex-wrap:wrap;\n",
              "      gap: 12px;\n",
              "    }\n",
              "\n",
              "    .colab-df-convert {\n",
              "      background-color: #E8F0FE;\n",
              "      border: none;\n",
              "      border-radius: 50%;\n",
              "      cursor: pointer;\n",
              "      display: none;\n",
              "      fill: #1967D2;\n",
              "      height: 32px;\n",
              "      padding: 0 0 0 0;\n",
              "      width: 32px;\n",
              "    }\n",
              "\n",
              "    .colab-df-convert:hover {\n",
              "      background-color: #E2EBFA;\n",
              "      box-shadow: 0px 1px 2px rgba(60, 64, 67, 0.3), 0px 1px 3px 1px rgba(60, 64, 67, 0.15);\n",
              "      fill: #174EA6;\n",
              "    }\n",
              "\n",
              "    [theme=dark] .colab-df-convert {\n",
              "      background-color: #3B4455;\n",
              "      fill: #D2E3FC;\n",
              "    }\n",
              "\n",
              "    [theme=dark] .colab-df-convert:hover {\n",
              "      background-color: #434B5C;\n",
              "      box-shadow: 0px 1px 3px 1px rgba(0, 0, 0, 0.15);\n",
              "      filter: drop-shadow(0px 1px 2px rgba(0, 0, 0, 0.3));\n",
              "      fill: #FFFFFF;\n",
              "    }\n",
              "  </style>\n",
              "\n",
              "      <script>\n",
              "        const buttonEl =\n",
              "          document.querySelector('#df-dbc0cda3-0767-4842-8852-2a7ee0195da4 button.colab-df-convert');\n",
              "        buttonEl.style.display =\n",
              "          google.colab.kernel.accessAllowed ? 'block' : 'none';\n",
              "\n",
              "        async function convertToInteractive(key) {\n",
              "          const element = document.querySelector('#df-dbc0cda3-0767-4842-8852-2a7ee0195da4');\n",
              "          const dataTable =\n",
              "            await google.colab.kernel.invokeFunction('convertToInteractive',\n",
              "                                                     [key], {});\n",
              "          if (!dataTable) return;\n",
              "\n",
              "          const docLinkHtml = 'Like what you see? Visit the ' +\n",
              "            '<a target=\"_blank\" href=https://colab.research.google.com/notebooks/data_table.ipynb>data table notebook</a>'\n",
              "            + ' to learn more about interactive tables.';\n",
              "          element.innerHTML = '';\n",
              "          dataTable['output_type'] = 'display_data';\n",
              "          await google.colab.output.renderOutput(dataTable, element);\n",
              "          const docLink = document.createElement('div');\n",
              "          docLink.innerHTML = docLinkHtml;\n",
              "          element.appendChild(docLink);\n",
              "        }\n",
              "      </script>\n",
              "    </div>\n",
              "  </div>\n",
              "  "
            ]
          },
          "metadata": {},
          "execution_count": 2
        }
      ]
    },
    {
      "cell_type": "code",
      "source": [
        "from keras.models import Model\n",
        "from tcn import TCN\n",
        "from keras.layers import Input, Embedding, SpatialDropout1D, Dense, GlobalAveragePooling1D, GlobalMaxPooling1D, concatenate, Dropout\n",
        "import keras"
      ],
      "metadata": {
        "id": "5J1t81O_j6zK"
      },
      "execution_count": null,
      "outputs": []
    },
    {
      "cell_type": "code",
      "source": [
        "def tcn_model(kernel_size = 3, activation='relu', input_dim = None, \n",
        "                   output_dim=300, max_length = None, emb_matrix = None):\n",
        "    \n",
        "    inp = Input( shape=(max_length,))\n",
        "    x = Embedding(input_dim=input_dim, \n",
        "                  output_dim=output_dim, \n",
        "                  input_length=max_length,\n",
        "                  # Assign the embedding weight with word2vec embedding marix\n",
        "                  weights = None,\n",
        "                  # Set the weight to be not trainable (static)\n",
        "                  trainable = False)(inp)\n",
        "    \n",
        "    x = SpatialDropout1D(0.1)(x)\n",
        "    \n",
        "    x = TCN(128,dilations = [1, 2, 4], return_sequences=True, activation = activation, name = 'tcn1')(x)\n",
        "    x = TCN(64,dilations = [1, 2, 4], return_sequences=True, activation = activation, name = 'tcn2')(x)\n",
        "    \n",
        "    avg_pool = GlobalAveragePooling1D()(x)\n",
        "    max_pool = GlobalMaxPooling1D()(x)\n",
        "    \n",
        "    conc = concatenate([avg_pool, max_pool])\n",
        "    conc = Dense(16, activation=\"relu\")(conc)\n",
        "    conc = Dropout(0.1)(conc)\n",
        "    outp = Dense(max(y_train)+1, activation=\"softmax\")(conc)    \n",
        "\n",
        "    model = Model(inputs=inp, outputs=outp)\n",
        "    model.compile( loss = 'sparse_categorical_crossentropy', optimizer = 'adam', metrics = ['accuracy'])\n",
        "    \n",
        "    return model"
      ],
      "metadata": {
        "id": "AcinpSYgjDxE"
      },
      "execution_count": null,
      "outputs": []
    },
    {
      "cell_type": "code",
      "source": [
        "encoded_label = {}\n",
        "labels = df['intent'].unique()\n",
        "for i in range(len(labels)):\n",
        "  encoded_label[labels[i]] = i\n",
        "print(encoded_label)  "
      ],
      "metadata": {
        "colab": {
          "base_uri": "https://localhost:8080/"
        },
        "id": "iQ553It4mThr",
        "outputId": "f8a17de1-9591-4633-a81e-d1ad127df2c8"
      },
      "execution_count": null,
      "outputs": [
        {
          "output_type": "stream",
          "name": "stdout",
          "text": [
            "{'greeting': 0, 'goodbye': 1, 'creator': 2, 'name': 3, 'hours': 4, 'number': 5, 'course': 6, 'fees': 7, 'location': 8, 'hostel': 9, 'infrastructure': 10, 'event': 11, 'document': 12, 'syllabus': 13, 'library': 14, 'canteen': 15, 'menu': 16, 'placement': 17, 'csehod': 18, 'principal': 19, 'admission': 20, 'facilities': 21, 'college intake': 22, 'uniform': 23, 'random': 24, 'swear': 25, 'salutation': 26, 'task': 27, 'ragging': 28, 'hod': 29, 'transport': 30, 'scholarship': 31, 'faculty': 32, 'student portal': 33, 'faculty portal': 34, 'sports': 35, 'fest': 36, 'other': 37, 'university affiliation': 38, 'medical ': 39, 'college type': 40, 'notice': 41}\n"
          ]
        }
      ]
    },
    {
      "cell_type": "code",
      "source": [
        "decoded_label = {}\n",
        "for key in encoded_label:\n",
        "  decoded_label[encoded_label[key]] = key\n",
        "print(decoded_label)  "
      ],
      "metadata": {
        "colab": {
          "base_uri": "https://localhost:8080/"
        },
        "id": "H-mhn0rWtcz5",
        "outputId": "acf957fe-db77-474e-aae2-dd576ad67245"
      },
      "execution_count": null,
      "outputs": [
        {
          "output_type": "stream",
          "name": "stdout",
          "text": [
            "{0: 'greeting', 1: 'goodbye', 2: 'creator', 3: 'name', 4: 'hours', 5: 'number', 6: 'course', 7: 'fees', 8: 'location', 9: 'hostel', 10: 'infrastructure', 11: 'event', 12: 'document', 13: 'syllabus', 14: 'library', 15: 'canteen', 16: 'menu', 17: 'placement', 18: 'csehod', 19: 'principal', 20: 'admission', 21: 'facilities', 22: 'college intake', 23: 'uniform', 24: 'random', 25: 'swear', 26: 'salutation', 27: 'task', 28: 'ragging', 29: 'hod', 30: 'transport', 31: 'scholarship', 32: 'faculty', 33: 'student portal', 34: 'faculty portal', 35: 'sports', 36: 'fest', 37: 'other', 38: 'university affiliation', 39: 'medical ', 40: 'college type', 41: 'notice'}\n"
          ]
        }
      ]
    },
    {
      "cell_type": "code",
      "source": [
        "X_train = np.array(tokenizer.batch_encode_plus(list(df['text']), return_attention_mask = False, padding = 'max_length',max_length=15, truncation = True, add_special_tokens = False )['input_ids'])\n",
        "y_train = np.array(list(df['intent'].map(encoded_label)))"
      ],
      "metadata": {
        "id": "M8olpccRlEVK"
      },
      "execution_count": null,
      "outputs": []
    },
    {
      "cell_type": "code",
      "source": [
        "X_train.shape, y_train.shape"
      ],
      "metadata": {
        "colab": {
          "base_uri": "https://localhost:8080/"
        },
        "id": "VH15GRpunQgh",
        "outputId": "66ef01fd-fc9a-41e9-8686-aa991cfba259"
      },
      "execution_count": null,
      "outputs": [
        {
          "output_type": "execute_result",
          "data": {
            "text/plain": [
              "((863, 15), (863,))"
            ]
          },
          "metadata": {},
          "execution_count": 19
        }
      ]
    },
    {
      "cell_type": "code",
      "source": [
        "model = tcn_model(input_dim=tokenizer.vocab_size, max_length=len(X_train[0]) )\n",
        "model.summary()"
      ],
      "metadata": {
        "colab": {
          "base_uri": "https://localhost:8080/"
        },
        "id": "y5sO64CenVno",
        "outputId": "762b9ad8-7aa2-4672-f415-c69393df9825"
      },
      "execution_count": null,
      "outputs": [
        {
          "output_type": "stream",
          "name": "stdout",
          "text": [
            "Model: \"model_4\"\n",
            "__________________________________________________________________________________________________\n",
            " Layer (type)                   Output Shape         Param #     Connected to                     \n",
            "==================================================================================================\n",
            " input_6 (InputLayer)           [(None, 15)]         0           []                               \n",
            "                                                                                                  \n",
            " embedding_5 (Embedding)        (None, 15, 300)      8698800     ['input_6[0][0]']                \n",
            "                                                                                                  \n",
            " spatial_dropout1d_4 (SpatialDr  (None, 15, 300)     0           ['embedding_5[0][0]']            \n",
            " opout1D)                                                                                         \n",
            "                                                                                                  \n",
            " tcn1 (TCN)                     (None, 15, 128)      400256      ['spatial_dropout1d_4[0][0]']    \n",
            "                                                                                                  \n",
            " tcn2 (TCN)                     (None, 15, 64)       94656       ['tcn1[0][0]']                   \n",
            "                                                                                                  \n",
            " global_average_pooling1d_4 (Gl  (None, 64)          0           ['tcn2[0][0]']                   \n",
            " obalAveragePooling1D)                                                                            \n",
            "                                                                                                  \n",
            " global_max_pooling1d_4 (Global  (None, 64)          0           ['tcn2[0][0]']                   \n",
            " MaxPooling1D)                                                                                    \n",
            "                                                                                                  \n",
            " concatenate_4 (Concatenate)    (None, 128)          0           ['global_average_pooling1d_4[0][0\n",
            "                                                                 ]',                              \n",
            "                                                                  'global_max_pooling1d_4[0][0]'] \n",
            "                                                                                                  \n",
            " dense_8 (Dense)                (None, 16)           2064        ['concatenate_4[0][0]']          \n",
            "                                                                                                  \n",
            " dropout_4 (Dropout)            (None, 16)           0           ['dense_8[0][0]']                \n",
            "                                                                                                  \n",
            " dense_9 (Dense)                (None, 42)           714         ['dropout_4[0][0]']              \n",
            "                                                                                                  \n",
            "==================================================================================================\n",
            "Total params: 9,196,490\n",
            "Trainable params: 497,690\n",
            "Non-trainable params: 8,698,800\n",
            "__________________________________________________________________________________________________\n"
          ]
        }
      ]
    },
    {
      "cell_type": "code",
      "source": [
        "model.fit(X_train, y_train, epochs = 40)"
      ],
      "metadata": {
        "colab": {
          "base_uri": "https://localhost:8080/"
        },
        "id": "OJpjpsBaoBiJ",
        "outputId": "974afe74-b3f8-4d40-c560-d9dac0504b23"
      },
      "execution_count": null,
      "outputs": [
        {
          "output_type": "stream",
          "name": "stdout",
          "text": [
            "Epoch 1/40\n",
            "27/27 [==============================] - 6s 61ms/step - loss: 3.7226 - accuracy: 0.0324\n",
            "Epoch 2/40\n",
            "27/27 [==============================] - 2s 62ms/step - loss: 3.6825 - accuracy: 0.0498\n",
            "Epoch 3/40\n",
            "27/27 [==============================] - 3s 106ms/step - loss: 3.5727 - accuracy: 0.0823\n",
            "Epoch 4/40\n",
            "27/27 [==============================] - 3s 98ms/step - loss: 3.3043 - accuracy: 0.1228\n",
            "Epoch 5/40\n",
            "27/27 [==============================] - 2s 65ms/step - loss: 3.0866 - accuracy: 0.1530\n",
            "Epoch 6/40\n",
            "27/27 [==============================] - 2s 61ms/step - loss: 2.8884 - accuracy: 0.1842\n",
            "Epoch 7/40\n",
            "27/27 [==============================] - 2s 61ms/step - loss: 2.7140 - accuracy: 0.2433\n",
            "Epoch 8/40\n",
            "27/27 [==============================] - 2s 64ms/step - loss: 2.5835 - accuracy: 0.2526\n",
            "Epoch 9/40\n",
            "27/27 [==============================] - 2s 62ms/step - loss: 2.3143 - accuracy: 0.3233\n",
            "Epoch 10/40\n",
            "27/27 [==============================] - 3s 128ms/step - loss: 2.1320 - accuracy: 0.3395\n",
            "Epoch 11/40\n",
            "27/27 [==============================] - 3s 106ms/step - loss: 1.9725 - accuracy: 0.3963\n",
            "Epoch 12/40\n",
            "27/27 [==============================] - 2s 62ms/step - loss: 1.7793 - accuracy: 0.4554\n",
            "Epoch 13/40\n",
            "27/27 [==============================] - 2s 61ms/step - loss: 1.6802 - accuracy: 0.4902\n",
            "Epoch 14/40\n",
            "27/27 [==============================] - 2s 64ms/step - loss: 1.6164 - accuracy: 0.4890\n",
            "Epoch 15/40\n",
            "27/27 [==============================] - 2s 64ms/step - loss: 1.5191 - accuracy: 0.5446\n",
            "Epoch 16/40\n",
            "27/27 [==============================] - 2s 64ms/step - loss: 1.1928 - accuracy: 0.6211\n",
            "Epoch 17/40\n",
            "27/27 [==============================] - 2s 68ms/step - loss: 1.2290 - accuracy: 0.6362\n",
            "Epoch 18/40\n",
            "27/27 [==============================] - 3s 109ms/step - loss: 1.3020 - accuracy: 0.6037\n",
            "Epoch 19/40\n",
            "27/27 [==============================] - 2s 87ms/step - loss: 1.1380 - accuracy: 0.6628\n",
            "Epoch 20/40\n",
            "27/27 [==============================] - 2s 61ms/step - loss: 0.9930 - accuracy: 0.6918\n",
            "Epoch 21/40\n",
            "27/27 [==============================] - 2s 61ms/step - loss: 0.9480 - accuracy: 0.7173\n",
            "Epoch 22/40\n",
            "27/27 [==============================] - 2s 62ms/step - loss: 0.9387 - accuracy: 0.7080\n",
            "Epoch 23/40\n",
            "27/27 [==============================] - 2s 64ms/step - loss: 0.8822 - accuracy: 0.7393\n",
            "Epoch 24/40\n",
            "27/27 [==============================] - 2s 61ms/step - loss: 0.7038 - accuracy: 0.7729\n",
            "Epoch 25/40\n",
            "27/27 [==============================] - 2s 75ms/step - loss: 0.7179 - accuracy: 0.7810\n",
            "Epoch 26/40\n",
            "27/27 [==============================] - 3s 105ms/step - loss: 0.6498 - accuracy: 0.8030\n",
            "Epoch 27/40\n",
            "27/27 [==============================] - 2s 81ms/step - loss: 0.6744 - accuracy: 0.8007\n",
            "Epoch 28/40\n",
            "27/27 [==============================] - 2s 61ms/step - loss: 0.5556 - accuracy: 0.8146\n",
            "Epoch 29/40\n",
            "27/27 [==============================] - 2s 61ms/step - loss: 0.5704 - accuracy: 0.8250\n",
            "Epoch 30/40\n",
            "27/27 [==============================] - 2s 62ms/step - loss: 0.5131 - accuracy: 0.8424\n",
            "Epoch 31/40\n",
            "27/27 [==============================] - 2s 60ms/step - loss: 0.4465 - accuracy: 0.8470\n",
            "Epoch 32/40\n",
            "27/27 [==============================] - 2s 63ms/step - loss: 0.6050 - accuracy: 0.7937\n",
            "Epoch 33/40\n",
            "27/27 [==============================] - 2s 85ms/step - loss: 0.6256 - accuracy: 0.8239\n",
            "Epoch 34/40\n",
            "27/27 [==============================] - 3s 107ms/step - loss: 0.5631 - accuracy: 0.8088\n",
            "Epoch 35/40\n",
            "27/27 [==============================] - 2s 72ms/step - loss: 0.5029 - accuracy: 0.8297\n",
            "Epoch 36/40\n",
            "27/27 [==============================] - 2s 61ms/step - loss: 0.5234 - accuracy: 0.8366\n",
            "Epoch 37/40\n",
            "27/27 [==============================] - 2s 61ms/step - loss: 0.4191 - accuracy: 0.8552\n",
            "Epoch 38/40\n",
            "27/27 [==============================] - 2s 62ms/step - loss: 0.4450 - accuracy: 0.8633\n",
            "Epoch 39/40\n",
            "27/27 [==============================] - 2s 62ms/step - loss: 0.5454 - accuracy: 0.8169\n",
            "Epoch 40/40\n",
            "27/27 [==============================] - 2s 63ms/step - loss: 0.4614 - accuracy: 0.8517\n"
          ]
        },
        {
          "output_type": "execute_result",
          "data": {
            "text/plain": [
              "<keras.callbacks.History at 0x7f9c626eb580>"
            ]
          },
          "metadata": {},
          "execution_count": 64
        }
      ]
    },
    {
      "cell_type": "code",
      "source": [
        "df_test = pd.read_excel('train_data.xlsx')\n",
        "df_test.head()"
      ],
      "metadata": {
        "colab": {
          "base_uri": "https://localhost:8080/",
          "height": 206
        },
        "id": "rZCgk-PUrFdX",
        "outputId": "be96ee94-9962-4bc7-9cf4-c5721c52b985"
      },
      "execution_count": null,
      "outputs": [
        {
          "output_type": "execute_result",
          "data": {
            "text/plain": [
              "              text    intent\n",
              "0               Hi  greeting\n",
              "1      How are you  greeting\n",
              "2    Good morning   greeting\n",
              "3  Good afternoon   greeting\n",
              "4     Good evening  greeting"
            ],
            "text/html": [
              "\n",
              "  <div id=\"df-00069433-976b-49ff-9df1-e6bf63762584\">\n",
              "    <div class=\"colab-df-container\">\n",
              "      <div>\n",
              "<style scoped>\n",
              "    .dataframe tbody tr th:only-of-type {\n",
              "        vertical-align: middle;\n",
              "    }\n",
              "\n",
              "    .dataframe tbody tr th {\n",
              "        vertical-align: top;\n",
              "    }\n",
              "\n",
              "    .dataframe thead th {\n",
              "        text-align: right;\n",
              "    }\n",
              "</style>\n",
              "<table border=\"1\" class=\"dataframe\">\n",
              "  <thead>\n",
              "    <tr style=\"text-align: right;\">\n",
              "      <th></th>\n",
              "      <th>text</th>\n",
              "      <th>intent</th>\n",
              "    </tr>\n",
              "  </thead>\n",
              "  <tbody>\n",
              "    <tr>\n",
              "      <th>0</th>\n",
              "      <td>Hi</td>\n",
              "      <td>greeting</td>\n",
              "    </tr>\n",
              "    <tr>\n",
              "      <th>1</th>\n",
              "      <td>How are you</td>\n",
              "      <td>greeting</td>\n",
              "    </tr>\n",
              "    <tr>\n",
              "      <th>2</th>\n",
              "      <td>Good morning</td>\n",
              "      <td>greeting</td>\n",
              "    </tr>\n",
              "    <tr>\n",
              "      <th>3</th>\n",
              "      <td>Good afternoon</td>\n",
              "      <td>greeting</td>\n",
              "    </tr>\n",
              "    <tr>\n",
              "      <th>4</th>\n",
              "      <td>Good evening</td>\n",
              "      <td>greeting</td>\n",
              "    </tr>\n",
              "  </tbody>\n",
              "</table>\n",
              "</div>\n",
              "      <button class=\"colab-df-convert\" onclick=\"convertToInteractive('df-00069433-976b-49ff-9df1-e6bf63762584')\"\n",
              "              title=\"Convert this dataframe to an interactive table.\"\n",
              "              style=\"display:none;\">\n",
              "        \n",
              "  <svg xmlns=\"http://www.w3.org/2000/svg\" height=\"24px\"viewBox=\"0 0 24 24\"\n",
              "       width=\"24px\">\n",
              "    <path d=\"M0 0h24v24H0V0z\" fill=\"none\"/>\n",
              "    <path d=\"M18.56 5.44l.94 2.06.94-2.06 2.06-.94-2.06-.94-.94-2.06-.94 2.06-2.06.94zm-11 1L8.5 8.5l.94-2.06 2.06-.94-2.06-.94L8.5 2.5l-.94 2.06-2.06.94zm10 10l.94 2.06.94-2.06 2.06-.94-2.06-.94-.94-2.06-.94 2.06-2.06.94z\"/><path d=\"M17.41 7.96l-1.37-1.37c-.4-.4-.92-.59-1.43-.59-.52 0-1.04.2-1.43.59L10.3 9.45l-7.72 7.72c-.78.78-.78 2.05 0 2.83L4 21.41c.39.39.9.59 1.41.59.51 0 1.02-.2 1.41-.59l7.78-7.78 2.81-2.81c.8-.78.8-2.07 0-2.86zM5.41 20L4 18.59l7.72-7.72 1.47 1.35L5.41 20z\"/>\n",
              "  </svg>\n",
              "      </button>\n",
              "      \n",
              "  <style>\n",
              "    .colab-df-container {\n",
              "      display:flex;\n",
              "      flex-wrap:wrap;\n",
              "      gap: 12px;\n",
              "    }\n",
              "\n",
              "    .colab-df-convert {\n",
              "      background-color: #E8F0FE;\n",
              "      border: none;\n",
              "      border-radius: 50%;\n",
              "      cursor: pointer;\n",
              "      display: none;\n",
              "      fill: #1967D2;\n",
              "      height: 32px;\n",
              "      padding: 0 0 0 0;\n",
              "      width: 32px;\n",
              "    }\n",
              "\n",
              "    .colab-df-convert:hover {\n",
              "      background-color: #E2EBFA;\n",
              "      box-shadow: 0px 1px 2px rgba(60, 64, 67, 0.3), 0px 1px 3px 1px rgba(60, 64, 67, 0.15);\n",
              "      fill: #174EA6;\n",
              "    }\n",
              "\n",
              "    [theme=dark] .colab-df-convert {\n",
              "      background-color: #3B4455;\n",
              "      fill: #D2E3FC;\n",
              "    }\n",
              "\n",
              "    [theme=dark] .colab-df-convert:hover {\n",
              "      background-color: #434B5C;\n",
              "      box-shadow: 0px 1px 3px 1px rgba(0, 0, 0, 0.15);\n",
              "      filter: drop-shadow(0px 1px 2px rgba(0, 0, 0, 0.3));\n",
              "      fill: #FFFFFF;\n",
              "    }\n",
              "  </style>\n",
              "\n",
              "      <script>\n",
              "        const buttonEl =\n",
              "          document.querySelector('#df-00069433-976b-49ff-9df1-e6bf63762584 button.colab-df-convert');\n",
              "        buttonEl.style.display =\n",
              "          google.colab.kernel.accessAllowed ? 'block' : 'none';\n",
              "\n",
              "        async function convertToInteractive(key) {\n",
              "          const element = document.querySelector('#df-00069433-976b-49ff-9df1-e6bf63762584');\n",
              "          const dataTable =\n",
              "            await google.colab.kernel.invokeFunction('convertToInteractive',\n",
              "                                                     [key], {});\n",
              "          if (!dataTable) return;\n",
              "\n",
              "          const docLinkHtml = 'Like what you see? Visit the ' +\n",
              "            '<a target=\"_blank\" href=https://colab.research.google.com/notebooks/data_table.ipynb>data table notebook</a>'\n",
              "            + ' to learn more about interactive tables.';\n",
              "          element.innerHTML = '';\n",
              "          dataTable['output_type'] = 'display_data';\n",
              "          await google.colab.output.renderOutput(dataTable, element);\n",
              "          const docLink = document.createElement('div');\n",
              "          docLink.innerHTML = docLinkHtml;\n",
              "          element.appendChild(docLink);\n",
              "        }\n",
              "      </script>\n",
              "    </div>\n",
              "  </div>\n",
              "  "
            ]
          },
          "metadata": {},
          "execution_count": 44
        }
      ]
    },
    {
      "cell_type": "code",
      "source": [
        "X_test = np.array(tokenizer.batch_encode_plus(list(df_test['text']), return_attention_mask = False, padding = 'max_length',max_length=15, truncation = True, add_special_tokens = False )['input_ids'])\n",
        "y_test = np.array(list(df_test['intent'].map(encoded_label)))"
      ],
      "metadata": {
        "id": "ER00D_RxriCi"
      },
      "execution_count": null,
      "outputs": []
    },
    {
      "cell_type": "code",
      "source": [
        "X_test.shape, y_test.shape"
      ],
      "metadata": {
        "colab": {
          "base_uri": "https://localhost:8080/"
        },
        "id": "tlkw9-bIrrGP",
        "outputId": "1259436c-323d-4efe-bc7c-05e5d1bab4bd"
      },
      "execution_count": null,
      "outputs": [
        {
          "output_type": "execute_result",
          "data": {
            "text/plain": [
              "((863, 15), (863,))"
            ]
          },
          "metadata": {},
          "execution_count": 46
        }
      ]
    },
    {
      "cell_type": "code",
      "source": [
        "model.evaluate(X_test, y_test)"
      ],
      "metadata": {
        "colab": {
          "base_uri": "https://localhost:8080/"
        },
        "id": "W9FTo25Zrx7X",
        "outputId": "929d00ba-b679-407b-e67b-f31a6752f99b"
      },
      "execution_count": null,
      "outputs": [
        {
          "output_type": "stream",
          "name": "stdout",
          "text": [
            "27/27 [==============================] - 1s 30ms/step - loss: 0.0895 - accuracy: 0.9849\n"
          ]
        },
        {
          "output_type": "execute_result",
          "data": {
            "text/plain": [
              "[0.08947745710611343, 0.9849362969398499]"
            ]
          },
          "metadata": {},
          "execution_count": 65
        }
      ]
    },
    {
      "cell_type": "code",
      "source": [
        "#Save \n",
        "model.save('college_search_bar.h5')"
      ],
      "metadata": {
        "id": "RwDlAYvJwl8-"
      },
      "execution_count": null,
      "outputs": []
    },
    {
      "cell_type": "code",
      "source": [
        "#Load\n",
        "import tcn\n",
        "import tensorflow as tf\n",
        "model1 = tf.keras.models.load_model(\n",
        "       (\"/content/college_search_bar.h5\"),\n",
        "       custom_objects={'TCN':tcn.TCN}\n",
        ")"
      ],
      "metadata": {
        "id": "ffwG3pzp5VkF"
      },
      "execution_count": null,
      "outputs": []
    }
  ]
}